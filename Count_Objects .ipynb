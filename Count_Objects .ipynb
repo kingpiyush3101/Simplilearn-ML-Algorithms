{
 "cells": [
  {
   "cell_type": "code",
   "execution_count": 1,
   "id": "a2e541a0",
   "metadata": {},
   "outputs": [],
   "source": [
    "import cv2\n",
    "import cvlib as cv\n",
    "from cvlib.object_detection import draw_bbox"
   ]
  },
  {
   "cell_type": "code",
   "execution_count": 2,
   "id": "5e8926ae",
   "metadata": {},
   "outputs": [],
   "source": [
    "def object(i):\n",
    "    bbox, label, conf = cv.detect_common_objects(i)\n",
    "    print(label)\n",
    "    print(\"No. of cars in the image is \" + str(label.count('car')))\n",
    "    output_image = draw_bbox(i, bbox, label, conf)\n",
    "    cv2.putText(i, \"cars : \" + str(label.count('car')), (20,50), 0, 2 ,(255,0,0), 2)\n",
    "    "
   ]
  },
  {
   "cell_type": "code",
   "execution_count": null,
   "id": "8eccb524",
   "metadata": {},
   "outputs": [],
   "source": [
    "image = cv2.imread(\"D:\\king editz\\Channel\\endpresentation.jpg\")\n",
    "object(image)\n",
    "cv2.imshow(\"FRAME\", image)\n",
    "cv2.waitKey(30)\n",
    "cv2.destroyAllWindows"
   ]
  },
  {
   "cell_type": "code",
   "execution_count": null,
   "id": "0d90e9fe",
   "metadata": {},
   "outputs": [],
   "source": []
  }
 ],
 "metadata": {
  "kernelspec": {
   "display_name": "Python 3 (ipykernel)",
   "language": "python",
   "name": "python3"
  },
  "language_info": {
   "codemirror_mode": {
    "name": "ipython",
    "version": 3
   },
   "file_extension": ".py",
   "mimetype": "text/x-python",
   "name": "python",
   "nbconvert_exporter": "python",
   "pygments_lexer": "ipython3",
   "version": "3.9.7"
  }
 },
 "nbformat": 4,
 "nbformat_minor": 5
}
